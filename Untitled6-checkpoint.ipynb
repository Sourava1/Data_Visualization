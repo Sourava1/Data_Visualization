{
 "cells": [
  {
   "cell_type": "code",
   "execution_count": 1,
   "id": "1a222eef-76e8-49e6-aa3d-56ba1c68c5a8",
   "metadata": {},
   "outputs": [
    {
     "name": "stdout",
     "output_type": "stream",
     "text": [
      "[20  2 42]\n",
      "[20  2 42]\n",
      "[20  2 42]\n",
      "[20  2 42]\n"
     ]
    }
   ],
   "source": [
    "import numpy as np\n",
    "\n",
    "a = np.array([[10, 1, 21], [10, 1, 21]])\n",
    "rows, cols = a.shape  # Get the shape of the array\n",
    "\n",
    "for i in range(rows):\n",
    "    for j in range(rows):\n",
    "        print(a[i] + a[j])\n"
   ]
  },
  {
   "cell_type": "code",
   "execution_count": 2,
   "id": "3e9aecd2-d38f-4b40-b08d-6cabce5f0108",
   "metadata": {},
   "outputs": [
    {
     "name": "stdout",
     "output_type": "stream",
     "text": [
      "        day   temp condition\n",
      "0     Monday    12     Sunny\n",
      "1    Tuesday    14      Rain\n",
      "2  Wednesday    15      Rain\n",
      "3   Thursday    14    Cloudy\n",
      "4     Friday    21     Sunny\n",
      "5   Saturday    22     Sunny\n",
      "6     Sunday    24     Sunny\n"
     ]
    }
   ],
   "source": [
    "import pandas as pd\n",
    "data = pd.read_csv(\"C:/Users/sourabha/OneDrive/weather_data.csv\")\n",
    "print(data)"
   ]
  },
  {
   "cell_type": "code",
   "execution_count": 3,
   "id": "ad27c92a-173b-40fc-a643-3bd664d5b2dd",
   "metadata": {},
   "outputs": [
    {
     "name": "stdout",
     "output_type": "stream",
     "text": [
      "        day   temp condition\n",
      "0     Monday    12     Sunny\n",
      "1    Tuesday    14      Rain\n",
      "2  Wednesday    15      Rain\n",
      "3   Thursday    14    Cloudy\n",
      "4     Friday    21     Sunny\n",
      "5   Saturday    22     Sunny\n",
      "6     Sunday    24     Sunny\n"
     ]
    }
   ],
   "source": [
    "import pandas as pd\n",
    "data = pd.read_csv(\"C:/Users/sourabha/OneDrive/weather_data.csv\")\n",
    "print(data)"
   ]
  },
  {
   "cell_type": "code",
   "execution_count": 4,
   "id": "1c5f0305-0148-4e08-8d07-88c6f44fd07d",
   "metadata": {},
   "outputs": [
    {
     "name": "stdout",
     "output_type": "stream",
     "text": [
      "The specified file was not found.\n"
     ]
    }
   ],
   "source": [
    "import pandas as pd\n",
    "\n",
    "try:\n",
    "    # Load the data from the specified sheet\n",
    "    data = pd.read_excel(\"C:/Users/sourabha/OneDrive/Documents/Book1.xlsx.xlxs\", sheet_name=\"hotel_booking\")\n",
    "    \n",
    "    # Print basic information about the dataframe\n",
    "    print(data.info())\n",
    "    \n",
    "    # Print summary statistics for numerical columns\n",
    "    print(data.describe())\n",
    "    \n",
    "    # Print the first few rows of the dataframe\n",
    "    print(data.head())\n",
    "except FileNotFoundError:\n",
    "    print(\"The specified file was not found.\")\n",
    "except Exception as e:\n",
    "    print(f\"An error occurred: {e}\")\n"
   ]
  },
  {
   "cell_type": "code",
   "execution_count": 5,
   "id": "05a9d439-3ff1-4d01-bcde-89c88aee5e92",
   "metadata": {},
   "outputs": [
    {
     "name": "stdout",
     "output_type": "stream",
     "text": [
      "The specified file was not found.\n"
     ]
    }
   ],
   "source": [
    "import pandas as pd\n",
    "\n",
    "try:\n",
    "    # Load the data from the specified sheet\n",
    "    data = pd.read_excel(\"C:/Users/sourabha/OneDrive/Documents/Book1.xlxs\", sheet_name=\"hotel_booking\")\n",
    "    \n",
    "    # Print basic information about the dataframe\n",
    "    print(data.info())\n",
    "    \n",
    "    # Print summary statistics for numerical columns\n",
    "    print(data.describe())\n",
    "    \n",
    "    # Print the first few rows of the dataframe\n",
    "    print(data.head())\n",
    "except FileNotFoundError:\n",
    "    print(\"The specified file was not found.\")\n",
    "except Exception as e:\n",
    "    print(f\"An error occurred: {e}\")"
   ]
  },
  {
   "cell_type": "code",
   "execution_count": 6,
   "id": "f7d3c478-f1be-4e2b-be9b-d2c59b0b9bec",
   "metadata": {},
   "outputs": [
    {
     "name": "stdout",
     "output_type": "stream",
     "text": [
      "<class 'pandas.core.frame.DataFrame'>\n",
      "RangeIndex: 1 entries, 0 to 0\n",
      "Data columns (total 15 columns):\n",
      " #   Column               Non-Null Count  Dtype  \n",
      "---  ------               --------------  -----  \n",
      " 0   Registration NO      1 non-null      int64  \n",
      " 1   SemId                1 non-null      int64  \n",
      " 2   UniSubCode           0 non-null      float64\n",
      " 3   UniSubTitle          1 non-null      object \n",
      " 4   UniSubType           1 non-null      object \n",
      " 5   Moocs SubCode New    1 non-null      object \n",
      " 6   MoocsSubTitleNew     1 non-null      object \n",
      " 7   Marks                1 non-null      int64  \n",
      " 8   SessionName          1 non-null      object \n",
      " 9   SessionYear          1 non-null      object \n",
      " 10  NplcRollNO           1 non-null      object \n",
      " 11  QRCodeUrl            0 non-null      float64\n",
      " 12  Status               1 non-null      object \n",
      " 13  MoocsUpdate SubCode  1 non-null      object \n",
      " 14  MoocsUpdateSubTitle  1 non-null      object \n",
      "dtypes: float64(2), int64(3), object(10)\n",
      "memory usage: 252.0+ bytes\n",
      "None\n",
      "       Registration NO  SemId  UniSubCode  Marks  QRCodeUrl\n",
      "count     1.000000e+00    1.0         0.0    1.0        0.0\n",
      "mean      2.205298e+09    3.0         NaN   45.0        NaN\n",
      "std                NaN    NaN         NaN    NaN        NaN\n",
      "min       2.205298e+09    3.0         NaN   45.0        NaN\n",
      "25%       2.205298e+09    3.0         NaN   45.0        NaN\n",
      "50%       2.205298e+09    3.0         NaN   45.0        NaN\n",
      "75%       2.205298e+09    3.0         NaN   45.0        NaN\n",
      "max       2.205298e+09    3.0         NaN   45.0        NaN\n",
      "   Registration NO  SemId  UniSubCode            UniSubTitle  UniSubType  \\\n",
      "0       2205298181      3         NaN  Computer Architecture  Elective-I   \n",
      "\n",
      "  Moocs SubCode New       MoocsSubTitleNew  Marks SessionName SessionYear  \\\n",
      "0        noc23-CS67  Computer Architecture     45    July-Oct   2022-2023   \n",
      "\n",
      "            NplcRollNO  QRCodeUrl Status MoocsUpdate SubCode  \\\n",
      "0  NOC23CS67S732400164        NaN   Fail          noc23-CS67   \n",
      "\n",
      "     MoocsUpdateSubTitle  \n",
      "0  Computer Architecture  \n"
     ]
    }
   ],
   "source": [
    "import pandas as pd\n",
    "\n",
    "try:\n",
    "    # Load the data from the specified sheet\n",
    "    data = pd.read_excel(\"C:/Users/sourabha/OneDrive/Book.xlsx\")\n",
    "    \n",
    "    # Print basic information about the dataframe\n",
    "    print(data.info())\n",
    "    \n",
    "    # Print summary statistics for numerical columns\n",
    "    print(data.describe())\n",
    "    \n",
    "    # Print the first few rows of the dataframe\n",
    "    print(data.head())\n",
    "except FileNotFoundError:\n",
    "    print(\"The specified file was not found.\")\n",
    "except Exception as e:\n",
    "    print(f\"An error occurred: {e}\")"
   ]
  },
  {
   "cell_type": "code",
   "execution_count": 7,
   "id": "9260a15c-b149-46bc-8025-c95119ecc806",
   "metadata": {},
   "outputs": [
    {
     "name": "stdout",
     "output_type": "stream",
     "text": [
      "      Name Study Gender  percentage  village   Salary\n",
      "0     Sonu     A      F          90     hjsn  20000.0\n",
      "1   Sourav     B      M          50  kalamba      NaN\n",
      "2  Santosh     C      M          60     fdjk  20000.0\n",
      "3     Sonu     D      M          90  kalamba      NaN\n"
     ]
    }
   ],
   "source": [
    "import pandas as pd\n",
    "data = pd.read_csv(\"C:/Users/sourabha/OneDrive/Desktop/Student.csv\")\n",
    "print(data)"
   ]
  },
  {
   "cell_type": "code",
   "execution_count": 8,
   "id": "b1c7fe39-b51a-4113-88ae-0c872bf2d32b",
   "metadata": {},
   "outputs": [
    {
     "name": "stdout",
     "output_type": "stream",
     "text": [
      "0    False\n",
      "1    False\n",
      "2    False\n",
      "3    False\n",
      "dtype: bool\n"
     ]
    }
   ],
   "source": [
    "import pandas as pd\n",
    "data = pd.read_csv(\"C:/Users/sourabha/OneDrive/Desktop/Student.csv\")\n",
    "print(data.duplicated())"
   ]
  },
  {
   "cell_type": "code",
   "execution_count": 9,
   "id": "6363bf43-0853-46e0-94b9-7b093e04304e",
   "metadata": {},
   "outputs": [
    {
     "name": "stdout",
     "output_type": "stream",
     "text": [
      "      Name Study Gender  percentage  village   Salary\n",
      "0     Sonu     A      F          90     hjsn  20000.0\n",
      "1   Sourav     B      M          50  kalamba      NaN\n",
      "2  Santosh     C      M          60     fdjk  20000.0\n",
      "3     Sonu     D      M          90  kalamba      NaN\n"
     ]
    }
   ],
   "source": [
    "import pandas as pd\n",
    "data = pd.read_csv(\"C:/Users/sourabha/OneDrive/Desktop/Student.csv\")\n",
    "print(data)"
   ]
  },
  {
   "cell_type": "code",
   "execution_count": 10,
   "id": "a87f950b-8ca7-4bba-88d6-5c639f9fe883",
   "metadata": {},
   "outputs": [
    {
     "name": "stdout",
     "output_type": "stream",
     "text": [
      "0    False\n",
      "1    False\n",
      "2    False\n",
      "3    False\n",
      "dtype: bool\n"
     ]
    }
   ],
   "source": [
    "import pandas as pd\n",
    "data = pd.read_csv(\"C:/Users/sourabha/OneDrive/Desktop/Student.csv\")\n",
    "print(data.duplicated())"
   ]
  },
  {
   "cell_type": "code",
   "execution_count": 11,
   "id": "afa9b114-de75-4665-90f7-d8b8c695f125",
   "metadata": {
    "scrolled": true
   },
   "outputs": [
    {
     "name": "stdout",
     "output_type": "stream",
     "text": [
      "0    False\n",
      "1    False\n",
      "2    False\n",
      "3     True\n",
      "Name: Name, dtype: bool\n"
     ]
    }
   ],
   "source": [
    "import pandas as pd\n",
    "data = pd.read_csv(\"C:/Users/sourabha/OneDrive/Desktop/Student.csv\")\n",
    "print(data[\"Name\"].duplicated())"
   ]
  },
  {
   "cell_type": "code",
   "execution_count": 12,
   "id": "a9a14043-5ec5-4e43-93ff-417e7fbfc3b7",
   "metadata": {},
   "outputs": [
    {
     "name": "stdout",
     "output_type": "stream",
     "text": [
      "2\n"
     ]
    }
   ],
   "source": [
    "import pandas as pd\n",
    "data = pd.read_csv(\"C:/Users/sourabha/OneDrive/Desktop/Student.csv\")\n",
    "print(data[\"Gender\"].duplicated().sum())"
   ]
  },
  {
   "cell_type": "code",
   "execution_count": 13,
   "id": "d005d84b-9c22-40c4-98d6-b607f10df980",
   "metadata": {},
   "outputs": [
    {
     "name": "stdout",
     "output_type": "stream",
     "text": [
      "     Name Study Gender  percentage  village   Salary\n",
      "0    Sonu     A      F          90     hjsn  20000.0\n",
      "1  Sourav     B      M          50  kalamba      NaN\n"
     ]
    }
   ],
   "source": [
    "import pandas as pd\n",
    "data = pd.read_csv(\"C:/Users/sourabha/OneDrive/Desktop/Student.csv\")\n",
    "print(data.drop_duplicates(\"Gender\"))"
   ]
  },
  {
   "cell_type": "code",
   "execution_count": 14,
   "id": "a584fa6a-a670-4709-bb1b-a03dd9108437",
   "metadata": {},
   "outputs": [
    {
     "name": "stdout",
     "output_type": "stream",
     "text": [
      "      Name Study Gender  percentage  village   Salary\n",
      "0     Sonu     A      F          90     hjsn  20000.0\n",
      "1   Sourav     B      M          50  kalamba      NaN\n",
      "2  Santosh     C      M          60     fdjk  20000.0\n",
      "3     Sonu     D      M          90  kalamba      NaN\n"
     ]
    }
   ],
   "source": [
    "import pandas as pd\n",
    "data = pd.read_csv(\"C:/Users/sourabha/OneDrive/Desktop/Student.csv\")\n",
    "print(data)"
   ]
  },
  {
   "cell_type": "code",
   "execution_count": 15,
   "id": "2e9db76d-7c8c-4809-a9b4-ee0ef3e5efb4",
   "metadata": {},
   "outputs": [
    {
     "name": "stdout",
     "output_type": "stream",
     "text": [
      "0       Sonu\n",
      "1     Sourav\n",
      "2    Santosh\n",
      "Name: Name, dtype: object\n"
     ]
    }
   ],
   "source": [
    "import pandas as pd\n",
    "\n",
    "# Reading the CSV file\n",
    "data = pd.read_csv(\"C:/Users/sourabha/OneDrive/Desktop/Student.csv\")\n",
    "\n",
    "# Dropping duplicates in the \"Name\" column\n",
    "unique_names = data[\"Name\"].drop_duplicates()\n",
    "\n",
    "# Printing the unique names\n",
    "print(unique_names)\n"
   ]
  },
  {
   "cell_type": "code",
   "execution_count": 16,
   "id": "a82a03a3-7ce3-4c8f-9036-437c15710527",
   "metadata": {},
   "outputs": [
    {
     "name": "stdout",
     "output_type": "stream",
     "text": [
      "      Name Study Gender  percentage  village   Salary\n",
      "0     Sonu     A      F          90     hjsn  20000.0\n",
      "1   Sourav     B      M          50  kalamba      NaN\n",
      "2  Santosh     C      M          60     fdjk  20000.0\n",
      "3     Sonu     D      M          90  kalamba      NaN\n"
     ]
    }
   ],
   "source": [
    "import pandas as pd\n",
    "data = pd.read_csv(\"C:/Users/sourabha/OneDrive/Desktop/Student.csv\")\n",
    "print(data)"
   ]
  },
  {
   "cell_type": "code",
   "execution_count": 17,
   "id": "898eeb13-ad3f-43cd-b8f5-6ae1f1edd718",
   "metadata": {},
   "outputs": [
    {
     "name": "stdout",
     "output_type": "stream",
     "text": [
      "      Name Study Gender  percentage  village   Salary\n",
      "0     Sonu     A      F          90     hjsn  20000.0\n",
      "1   Sourav     B      M          50  kalamba      NaN\n",
      "2  Santosh     C      M          60     fdjk  20000.0\n",
      "3     Sonu     D      M          90  kalamba      NaN\n"
     ]
    }
   ],
   "source": [
    "import pandas as pd\n",
    "data = pd.read_csv(\"C:/Users/sourabha/OneDrive/Desktop/Student.csv\")\n",
    "print(data)"
   ]
  },
  {
   "cell_type": "code",
   "execution_count": 18,
   "id": "dfb8df77-88d2-4df0-931c-b8dd2621c52b",
   "metadata": {},
   "outputs": [
    {
     "name": "stdout",
     "output_type": "stream",
     "text": [
      "      Name Study Gender  percentage  village   Salary\n",
      "0     Sonu     A      F          90     hjsn  20000.0\n",
      "1   Sourav     B      M          50  kalamba      NaN\n",
      "2  Santosh     C      M          60     fdjk  20000.0\n",
      "3     Sonu     D      M          90  kalamba      NaN\n"
     ]
    }
   ],
   "source": [
    "import pandas as pd\n",
    "data = pd.read_csv(\"C:/Users/sourabha/OneDrive/Desktop/Student.csv\")\n",
    "print(data)"
   ]
  },
  {
   "cell_type": "code",
   "execution_count": 19,
   "id": "1ded83d2-aa98-4ef0-9026-9bfba90b3cec",
   "metadata": {},
   "outputs": [
    {
     "name": "stdout",
     "output_type": "stream",
     "text": [
      "      Name Study Gender  percentage  village   Salary\n",
      "0     Sonu     A      F          90     hjsn  20000.0\n",
      "1   Sourav     B      M          50  kalamba  20000.0\n",
      "2  Santosh     C      M          60     fdjk  20000.0\n",
      "3     Sonu     D      M          90  kalamba  20000.0\n"
     ]
    }
   ],
   "source": [
    "import pandas as pd\n",
    "import numpy as np\n",
    "data = pd.read_csv(\"C:/Users/sourabha/OneDrive/Desktop/Student.csv\")\n",
    "data[\"Salary\"] = data[\"Salary\"].replace(np.nan,data[\"Salary\"].mean())\n",
    "print(data)"
   ]
  },
  {
   "cell_type": "code",
   "execution_count": 20,
   "id": "d4eb8556-427c-4d2e-a9de-f18777bb3af0",
   "metadata": {},
   "outputs": [
    {
     "name": "stdout",
     "output_type": "stream",
     "text": [
      "      Name Study Gender  percentage  village   Salary\n",
      "0     Sonu     A      F          90     hjsn  20000.0\n",
      "1   Sourav     B      M          50  kalamba  20000.0\n",
      "2  Santosh     C      M          60     fdjk  20000.0\n",
      "3     Sonu     D      M          90  kalamba  20000.0\n"
     ]
    }
   ],
   "source": [
    "import pandas as pd\n",
    "import numpy as np\n",
    "data = pd.read_csv(\"C:/Users/sourabha/OneDrive/Desktop/Student.csv\")\n",
    "data[\"Salary\"] = data[\"Salary\"].replace(np.nan,data[\"Salary\"].mean())\n",
    "print(data)"
   ]
  },
  {
   "cell_type": "code",
   "execution_count": 21,
   "id": "9ddc8ffd-39fc-4eef-ad3d-ce54d79cadeb",
   "metadata": {},
   "outputs": [
    {
     "name": "stdout",
     "output_type": "stream",
     "text": [
      "   Registration NO  SemId  UniSubCode            UniSubTitle  UniSubType  \\\n",
      "0       2205298181      3         NaN  Computer Architecture  Elective-I   \n",
      "\n",
      "  Moocs SubCode New       MoocsSubTitleNew  Marks SessionName SessionYear  \\\n",
      "0        noc23-CS67  Computer Architecture     45    July-Oct   2022-2023   \n",
      "\n",
      "            NplcRollNO  QRCodeUrl Status MoocsUpdate SubCode  \\\n",
      "0  NOC23CS67S732400164        NaN   Fail          noc23-CS67   \n",
      "\n",
      "     MoocsUpdateSubTitle  \n",
      "0  Computer Architecture  \n"
     ]
    }
   ],
   "source": [
    "import pandas as pd\n",
    "import numpy as np\n",
    "data = pd.read_excel(\"C:/Users/sourabha/OneDrive/Book.xlsx\")\n",
    "print(data)"
   ]
  },
  {
   "cell_type": "code",
   "execution_count": 24,
   "id": "6991dfd1-4d56-468a-aabe-ee991bb26088",
   "metadata": {},
   "outputs": [
    {
     "name": "stdout",
     "output_type": "stream",
     "text": [
      "      Name Study Gender  percentage  village   Salary\n",
      "0     Sonu     A      F          90     hjsn  20000.0\n",
      "1   Sourav     B      M          50  kalamba      NaN\n",
      "2  Santosh     C      M          60     fdjk  20000.0\n",
      "3     Sonu     D      M          90  kalamba      NaN\n"
     ]
    }
   ],
   "source": [
    "import pandas as pd\n",
    "import numpy as np\n",
    "data = pd.read_csv(\"C:/Users/sourabha/OneDrive/Desktop/Student.csv\")\n",
    "print(data)"
   ]
  },
  {
   "cell_type": "code",
   "execution_count": 25,
   "id": "162640b5-8572-451b-b098-dafda277b307",
   "metadata": {},
   "outputs": [
    {
     "name": "stdout",
     "output_type": "stream",
     "text": [
      "      Name Study Gender  percentage  village   Salary\n",
      "0     Sonu     A      F          90     hjsn  20000.0\n",
      "1   Sourav     B      M          50  kalamba      NaN\n",
      "2  Santosh     C      M          60     fdjk  20000.0\n",
      "3     Sonu     D      M          90  kalamba      NaN\n"
     ]
    }
   ],
   "source": [
    "print(data)"
   ]
  },
  {
   "cell_type": "code",
   "execution_count": 38,
   "id": "18f14465-fcc7-4c7d-bb22-34f5587d277c",
   "metadata": {},
   "outputs": [
    {
     "name": "stdout",
     "output_type": "stream",
     "text": [
      "      Name Study Gender  percentage  village   Salary  GetBonous\n",
      "0     Sonu     A      F          90     hjsn  20000.0       20.0\n",
      "1   Sourav     B      M          50  kalamba      NaN       10.0\n",
      "2  Santosh     C      M          60     fdjk  20000.0       10.0\n",
      "3     Sonu     D      M          90  kalamba      NaN       10.0\n"
     ]
    }
   ],
   "source": [
    "import pandas as pd\n",
    "data = pd.read_csv(\"C:/Users/sourabha/OneDrive/Desktop/Student.csv\")\n",
    "\n",
    "data .loc[data[\"Gender\"]  == \"M\",\"GetBonous\"] = 10 \n",
    "data .loc[data[\"Gender\"]  == \"F\",\"GetBonous\"] = 20\n",
    "print(data)"
   ]
  },
  {
   "cell_type": "code",
   "execution_count": 39,
   "id": "556dc2e4-3e0b-4c0d-accf-ad565de2ea19",
   "metadata": {},
   "outputs": [
    {
     "name": "stdout",
     "output_type": "stream",
     "text": [
      "  FirstName LastName Study Gender  percentage  village   Salary  GetBonous\n",
      "0      Sonu     Ojha     A      F          90     hjsn  20000.0       20.0\n",
      "1    Sourav  Pradhan     B      M          50  kalamba      NaN       10.0\n",
      "2   Santosh      Das     C      M          60     fdjk  20000.0       10.0\n",
      "3      Sonu     Sahu     D      M          90  kalamba      NaN       10.0\n"
     ]
    }
   ],
   "source": [
    "import pandas as pd\n",
    "data = pd.read_csv(\"C:/Users/sourabha/OneDrive/Desktop/Student.csv\")\n",
    "\n",
    "data .loc[data[\"Gender\"]  == \"M\",\"GetBonous\"] = 10 \n",
    "data .loc[data[\"Gender\"]  == \"F\",\"GetBonous\"] = 20\n",
    "print(data)"
   ]
  },
  {
   "cell_type": "code",
   "execution_count": 48,
   "id": "a0bd29cc-0160-41a0-b091-2949a5676f49",
   "metadata": {},
   "outputs": [
    {
     "name": "stdout",
     "output_type": "stream",
     "text": [
      "  FirstName LastName Study Gender  percentage  village   Salary  GetBonous  \\\n",
      "0      Sonu     Ojha     A      F          90     hjsn  20000.0       30.0   \n",
      "1    Sourav  Pradhan     B      M          50  kalamba      NaN       10.0   \n",
      "2   Santosh      Das     C      M          60     fdjk  20000.0       10.0   \n",
      "3      Sonu     Sahu     D      M          90  kalamba      NaN       10.0   \n",
      "\n",
      "        Full Name  \n",
      "0       Sonu Ojha  \n",
      "1  Sourav Pradhan  \n",
      "2     Santosh Das  \n",
      "3       Sonu Sahu  \n"
     ]
    }
   ],
   "source": [
    "import pandas as pd\n",
    "data = pd.read_csv(\"C:/Users/sourabha/OneDrive/Desktop/Student.csv\")\n",
    "\n",
    "data .loc[data[\"Gender\"]  == \"M\",\"GetBonous\"] = 10 \n",
    "data .loc[data[\"Gender\"]  == \"F\",\"GetBonous\"] = 30\n",
    "data[\"Full Name\"] = data[\"FirstName\"] +\" \" + data[\"LastName\"]\n",
    "print(data)"
   ]
  },
  {
   "cell_type": "code",
   "execution_count": 50,
   "id": "3d179afb-c521-4ad0-9c8a-b81f1cd52591",
   "metadata": {},
   "outputs": [
    {
     "name": "stdout",
     "output_type": "stream",
     "text": [
      "  FirstName LastName Study Gender  percentage  village   Salary  GetBonous  \\\n",
      "0      Sonu     Ojha     A      F          90     hjsn  20000.0       30.0   \n",
      "1    Sourav  Pradhan     B      M          50  kalamba      NaN       10.0   \n",
      "2   Santosh      Das     C      M          60     fdjk  20000.0       10.0   \n",
      "3      Sonu     Sahu     D      M          90  kalamba      NaN       10.0   \n",
      "\n",
      "        Full Name  \n",
      "0       Sonu Ojha  \n",
      "1  Sourav Pradhan  \n",
      "2     Santosh Das  \n",
      "3       Sonu Sahu  \n"
     ]
    }
   ],
   "source": [
    "import pandas as pd\n",
    "data = pd.read_csv(\"C:/Users/sourabha/OneDrive/Desktop/Student.csv\")\n",
    "\n",
    "data .loc[data[\"Gender\"]  == \"M\",\"GetBonous\"] = 10 \n",
    "data .loc[data[\"Gender\"]  == \"F\",\"GetBonous\"] = 30\n",
    "data[\"Full Name\"] = data[\"FirstName\"].str.capitalize() +\" \" + data[\"LastName\"]\n",
    "print(data)"
   ]
  },
  {
   "cell_type": "code",
   "execution_count": 52,
   "id": "9ceab899-aed0-4e74-954d-5edcab624c1f",
   "metadata": {},
   "outputs": [
    {
     "name": "stdout",
     "output_type": "stream",
     "text": [
      "  FirstName LastName Study Gender  percentage  village   Salary  Bonous\n",
      "0      Sonu     Ojha     A      F          90     hjsn  20000.0  4000.0\n",
      "1    Sourav  Pradhan     B      M          50  kalamba      NaN     NaN\n",
      "2   Santosh      Das     C      M          60     fdjk  20000.0  4000.0\n",
      "3      Sonu     Sahu     D      M          90  kalamba      NaN     NaN\n"
     ]
    }
   ],
   "source": [
    "#Columns Transformation in Pandas\n",
    "import pandas as pd\n",
    "data = pd.read_csv(\"C:/Users/sourabha/OneDrive/Desktop/Student.csv\")\n",
    "data[\"Bonous\"] = (data[\"Salary\"]/100)*20\n",
    "print(data)\n"
   ]
  },
  {
   "cell_type": "code",
   "execution_count": 53,
   "id": "4be9c797-57b3-45b2-8824-2a2e365bd8a8",
   "metadata": {},
   "outputs": [
    {
     "name": "stdout",
     "output_type": "stream",
     "text": [
      "  FirstName LastName Study Gender  percentage  village   Salary  Bonous\n",
      "0      Sonu     Ojha     A      F          90     hjsn  20000.0  4000.0\n",
      "1    Sourav  Pradhan     B      M          50  kalamba      0.0     0.0\n",
      "2   Santosh      Das     C      M          60     fdjk  20000.0  4000.0\n",
      "3      Sonu     Sahu     D      M          90  kalamba      0.0     0.0\n"
     ]
    }
   ],
   "source": [
    "#Columns Transformation in Pandas\n",
    "import pandas as pd\n",
    "data = pd.read_csv(\"C:/Users/sourabha/OneDrive/Desktop/Student.csv\")\n",
    "data[\"Salary\"] = data[\"Salary\"].fillna(0)\n",
    "# Calculate the 'Bonous' as 20% of the 'Salary\n",
    "data[\"Bonous\"] = (data[\"Salary\"]/100)*20\n",
    "print(data)"
   ]
  },
  {
   "cell_type": "code",
   "execution_count": 57,
   "id": "e99b1993-b7ff-42f0-9d9b-da8b40028d4d",
   "metadata": {},
   "outputs": [
    {
     "name": "stdout",
     "output_type": "stream",
     "text": [
      "     Months\n",
      "0   January\n",
      "1  February\n",
      "2     March\n",
      "3     April\n",
      "     Months Short_Months\n",
      "0   January          Jan\n",
      "1  February          Feb\n",
      "2     March          Mar\n",
      "3     April          Apr\n"
     ]
    }
   ],
   "source": [
    "data = {\"Months\" : [\"January\",\"February\",\"March\",\"April\"]}\n",
    "a =  pd.DataFrame(data)\n",
    "print(a)\n",
    "#for printing 0 to  3 index\n",
    "a[\"Short_Months\"] = a[\"Months\"].str[:3]\n",
    "print(a)"
   ]
  },
  {
   "cell_type": "code",
   "execution_count": 58,
   "id": "5d525853-66d9-4321-b4a1-51f03873ddd9",
   "metadata": {},
   "outputs": [
    {
     "name": "stdout",
     "output_type": "stream",
     "text": [
      "     Months\n",
      "0   January\n",
      "1  February\n",
      "2     March\n",
      "3     April\n",
      "     Months Short_Months\n",
      "0   January          Jan\n",
      "1  February          Feb\n",
      "2     March          Mar\n",
      "3     April          Apr\n"
     ]
    }
   ],
   "source": [
    "#or same thing can be do by using map function\n",
    "data = {\"Months\" : [\"January\",\"February\",\"March\",\"April\"]}\n",
    "a =  pd.DataFrame(data)\n",
    "print(a)\n",
    "def extract(value):\n",
    "    return value[0:3]\n",
    "#for printing 0 to  3 index using map method\n",
    "a[\"Short_Months\"] = a[\"Months\"].map(extract)\n",
    "print(a)"
   ]
  },
  {
   "cell_type": "code",
   "execution_count": null,
   "id": "af8e2af6-9d78-4897-8f56-30ca651c00aa",
   "metadata": {},
   "outputs": [],
   "source": []
  },
  {
   "cell_type": "code",
   "execution_count": 18,
   "id": "6b1760f9-b2ba-4f2f-8307-6f34c373152b",
   "metadata": {},
   "outputs": [
    {
     "name": "stdout",
     "output_type": "stream",
     "text": [
      "           day      city  temperature  windspeed   event\n",
      "0   01-01-2024  new york           32          6    Rain\n",
      "1   02-01-2024  new york           36          7   Sunny\n",
      "2   03-01-2024  new york           28         12    snow\n",
      "3   04-01-2024  new york           33          7   Sunny\n",
      "4   05-01-2024    mumbai           90          5   Sunny\n",
      "5   06-01-2024    mumbai           85         12     Fog\n",
      "6   07-01-2024    mumbai           87         15     Fog\n",
      "7   08-01-2024    mumbai           92          5    Rain\n",
      "8   09-01-2024     paris           45         20   Sunny\n",
      "9   10-01-2024     paris           50         13  cloudy\n",
      "10  11-01-2024     paris           54          8  cloudy\n",
      "11  12-01-2024     paris           42         10  cloudy\n"
     ]
    }
   ],
   "source": [
    "#GROUP BY IN PANDAS\n",
    "import pandas as pd\n",
    "import numpy as np\n",
    "data = pd.read_csv(r\"C:\\Users\\sourabha\\OneDrive\\Documents\\Weather_data.csv\")\n",
    "print(data)\n"
   ]
  },
  {
   "cell_type": "code",
   "execution_count": 2,
   "id": "8904fc41-bbea-451f-b96d-e5944a0ba2e3",
   "metadata": {},
   "outputs": [
    {
     "name": "stdout",
     "output_type": "stream",
     "text": [
      "           day      city  temperature  windspeed   event\n",
      "0   01-01-2024  new york           32          6    Rain\n",
      "1   02-01-2024  new york           36          7   Sunny\n",
      "2   03-01-2024  new york           28         12    snow\n",
      "3   04-01-2024  new york           33          7   Sunny\n",
      "4   05-01-2024    mumbai           90          5   Sunny\n",
      "5   06-01-2024    mumbai           85         12     Fog\n",
      "6   07-01-2024    mumbai           87         15     Fog\n",
      "7   08-01-2024    mumbai           92          5    Rain\n",
      "8   09-01-2024     paris           45         20   Sunny\n",
      "9   10-01-2024     paris           50         13  cloudy\n",
      "10  11-01-2024     paris           54          8  cloudy\n",
      "11  12-01-2024     paris           42         10  cloudy\n",
      "city\n",
      "mumbai      92\n",
      "new york    36\n",
      "paris       54\n",
      "Name: temperature, dtype: int64\n"
     ]
    }
   ],
   "source": [
    "#GROUP BY IN PANDAS\n",
    "import pandas as pd\n",
    "import numpy as np\n",
    "data = pd.read_csv(r\"C:\\Users\\sourabha\\OneDrive\\Documents\\Weather_data.csv\")\n",
    "# print(data)\n",
    "max_temps = data.groupby('city')['temperature'].max()\n",
    "print(max_temps)\n"
   ]
  },
  {
   "cell_type": "code",
   "execution_count": 5,
   "id": "8c9315b3-6364-4954-ac5b-540796faa2df",
   "metadata": {},
   "outputs": [
    {
     "name": "stdout",
     "output_type": "stream",
     "text": [
      "city\n",
      "mumbai       9.25\n",
      "new york     8.00\n",
      "paris       12.75\n",
      "Name: windspeed, dtype: float64\n"
     ]
    }
   ],
   "source": [
    "avg_wind_speed = data.groupby('city')['windspeed'].mean()\n",
    "print(avg_wind_speed)"
   ]
  },
  {
   "cell_type": "code",
   "execution_count": 7,
   "id": "ccda8493-fc1b-4f28-915f-43f4f778cbe8",
   "metadata": {},
   "outputs": [
    {
     "name": "stdout",
     "output_type": "stream",
     "text": [
      "           mean  max  min\n",
      "city                     \n",
      "mumbai     9.25   15    5\n",
      "new york   8.00   12    6\n",
      "paris     12.75   20    8\n"
     ]
    }
   ],
   "source": [
    "#Multiple Aggregations on single Columns:\n",
    "windspeed_aggregations = data.groupby('city')['windspeed'].agg(['mean', 'max', 'min'])\n",
    "print(windspeed_aggregations)"
   ]
  },
  {
   "cell_type": "code",
   "execution_count": 8,
   "id": "2ef60ee0-d583-4307-a78b-036d781fc259",
   "metadata": {},
   "outputs": [
    {
     "name": "stdout",
     "output_type": "stream",
     "text": [
      "         temperature     windspeed\n",
      "                mean max       sum\n",
      "city                              \n",
      "mumbai         88.50  92        37\n",
      "new york       32.25  36        32\n",
      "paris          47.75  54        51\n"
     ]
    }
   ],
   "source": [
    "#Multiple Aggregations on Multiple Columns:\n",
    "multiple_aggregations = data.groupby('city').agg({\n",
    "    'temperature': ['mean', 'max'],\n",
    "    'windspeed': 'sum'\n",
    "})\n",
    "print(multiple_aggregations)\n"
   ]
  },
  {
   "cell_type": "code",
   "execution_count": 9,
   "id": "4efcfca3-cd51-423c-a5bf-9f0d4a31f026",
   "metadata": {},
   "outputs": [
    {
     "name": "stdout",
     "output_type": "stream",
     "text": [
      "city\n",
      "mumbai      10\n",
      "new york     6\n",
      "paris       12\n",
      "Name: windspeed, dtype: int64\n"
     ]
    }
   ],
   "source": [
    "#Custom Aggregation Function:\n",
    "def range_func(x):\n",
    "    return x.max() - x.min()\n",
    "\n",
    "windspeed_range = data.groupby('city')['windspeed'].agg(range_func)\n",
    "print(windspeed_range)\n"
   ]
  },
  {
   "cell_type": "code",
   "execution_count": 13,
   "id": "5cdf0e17-6264-40db-b1c5-795380473f70",
   "metadata": {},
   "outputs": [
    {
     "name": "stdout",
     "output_type": "stream",
     "text": [
      "           day      city  temperature  windspeed   event  \\\n",
      "0   01-01-2024  new york           32          6    Rain   \n",
      "1   02-01-2024  new york           36          7   Sunny   \n",
      "2   03-01-2024  new york           28         12    snow   \n",
      "3   04-01-2024  new york           33          7   Sunny   \n",
      "4   05-01-2024    mumbai           90          5   Sunny   \n",
      "5   06-01-2024    mumbai           85         12     Fog   \n",
      "6   07-01-2024    mumbai           87         15     Fog   \n",
      "7   08-01-2024    mumbai           92          5    Rain   \n",
      "8   09-01-2024     paris           45         20   Sunny   \n",
      "9   10-01-2024     paris           50         13  cloudy   \n",
      "10  11-01-2024     paris           54          8  cloudy   \n",
      "11  12-01-2024     paris           42         10  cloudy   \n",
      "\n",
      "    temperature_normalized  \n",
      "0                -0.075665  \n",
      "1                 1.134975  \n",
      "2                -1.286305  \n",
      "3                 0.226995  \n",
      "4                 0.482451  \n",
      "5                -1.125718  \n",
      "6                -0.482451  \n",
      "7                 1.125718  \n",
      "8                -0.517396  \n",
      "9                 0.423324  \n",
      "10                1.175901  \n",
      "11               -1.081829  \n"
     ]
    }
   ],
   "source": [
    "#Transform Groups:\n",
    "data['temperature_normalized'] = data.groupby('city')['temperature'].transform(lambda x: (x - x.mean()) / x.std())\n",
    "print(data)\n"
   ]
  },
  {
   "cell_type": "code",
   "execution_count": 15,
   "id": "e6aed7cf-505c-4222-922e-983c132a9543",
   "metadata": {},
   "outputs": [
    {
     "name": "stdout",
     "output_type": "stream",
     "text": [
      "           day   city  temperature  windspeed   event  temperature_normalized\n",
      "8   09-01-2024  paris           45         20   Sunny               -0.517396\n",
      "9   10-01-2024  paris           50         13  cloudy                0.423324\n",
      "10  11-01-2024  paris           54          8  cloudy                1.175901\n",
      "11  12-01-2024  paris           42         10  cloudy               -1.081829\n"
     ]
    }
   ],
   "source": [
    "#Filter Groups Based on Aggregation\n",
    "high_windspeed_cities = data.groupby('city').filter(lambda x: x['windspeed'].mean() > 10)\n",
    "print(high_windspeed_cities)\n"
   ]
  },
  {
   "cell_type": "code",
   "execution_count": 18,
   "id": "67909571-2190-4f63-9d82-2ef2f1163a06",
   "metadata": {},
   "outputs": [
    {
     "name": "stdout",
     "output_type": "stream",
     "text": [
      "          windspeed\n",
      "city               \n",
      "mumbai         9.25\n",
      "new york       8.00\n",
      "paris         12.75\n"
     ]
    }
   ],
   "source": [
    "avg_wind_speed = data.groupby('city').agg({'windspeed':\"mean\"})\n",
    "print(avg_wind_speed)"
   ]
  },
  {
   "cell_type": "code",
   "execution_count": 32,
   "id": "b0ceacb1-37db-4e1c-b2cd-ddcb1777582c",
   "metadata": {},
   "outputs": [
    {
     "name": "stdout",
     "output_type": "stream",
     "text": [
      "  Emp Id   Names  Age\n",
      "0    E01     Ram   34\n",
      "1    E02   Shyam   56\n",
      "2    E03   Rahul   23\n",
      "3    E04  Vishal   44\n",
      "4    E05    Ravi   32\n",
      "5    E06    John   36\n",
      "6    E07    Muna   11\n",
      "7    E08    Muni   12\n",
      "\n",
      "  Emp Id  Salary\n",
      "0    E01   45000\n",
      "1    E02   56000\n",
      "2    E03   34000\n",
      "3    E04   30000\n",
      "4    E05   50000\n",
      "5    E06   62000\n",
      "6    E09   70000\n",
      "7    E10   90000\n"
     ]
    }
   ],
   "source": [
    "#Merge ,join and Concatenate in pandas\n",
    "import pandas as pd\n",
    "data1 = {\n",
    "        \"Emp Id\":[\"E01\",\"E02\",\"E03\",\"E04\",\"E05\",\"E06\",\"E07\",\"E08\"],\n",
    "        \"Names\":[\"Ram\",\"Shyam\",\"Rahul\",\"Vishal\",\"Ravi\",\"John\",\"Muna\",\"Muni\"],\n",
    "        \"Age\":[34,56,23,44,32,36,11,12]}\n",
    "\n",
    "data2 = {\"Emp Id\":[\"E01\",\"E02\",\"E03\",\"E04\",\"E05\",\"E06\",\"E09\",\"E10\"],\n",
    "        \"Salary\":[45000,56000,34000,30000,50000,62000,70000,90000]}\n",
    "\n",
    "df1 = pd.DataFrame(data1)\n",
    "df2 = pd.DataFrame(data2)\n",
    "\n",
    "print(df1)\n",
    "print()\n",
    "print(df2)"
   ]
  },
  {
   "cell_type": "code",
   "execution_count": 40,
   "id": "3ba90b6f-55b0-4aa9-8f83-77f60aa97861",
   "metadata": {},
   "outputs": [
    {
     "name": "stdout",
     "output_type": "stream",
     "text": [
      "  Emp Id   Names  Age  Salary\n",
      "0    E01     Ram   34   45000\n",
      "1    E02   Shyam   56   56000\n",
      "2    E03   Rahul   23   34000\n",
      "3    E04  Vishal   44   30000\n",
      "4    E05    Ravi   32   50000\n",
      "5    E06    John   36   62000\n"
     ]
    }
   ],
   "source": [
    "print(pd.merge(df1,df2,on = \"Emp Id\"))"
   ]
  },
  {
   "cell_type": "code",
   "execution_count": 34,
   "id": "cb4157c3-72aa-4edf-b3b5-dcc93ae2fd7e",
   "metadata": {},
   "outputs": [
    {
     "name": "stdout",
     "output_type": "stream",
     "text": [
      "  Emp Id   Names  Age   Salary\n",
      "0    E01     Ram   34  45000.0\n",
      "1    E02   Shyam   56  56000.0\n",
      "2    E03   Rahul   23  34000.0\n",
      "3    E04  Vishal   44  30000.0\n",
      "4    E05    Ravi   32  50000.0\n",
      "5    E06    John   36  62000.0\n",
      "6    E07    Muna   11      NaN\n",
      "7    E08    Muni   12      NaN\n"
     ]
    }
   ],
   "source": [
    "print(pd.merge(df1,df2,on= \"Emp Id\",how=\"left\"))"
   ]
  },
  {
   "cell_type": "code",
   "execution_count": 35,
   "id": "96683496-308a-4d2c-8114-4de0bc19b5de",
   "metadata": {},
   "outputs": [
    {
     "name": "stdout",
     "output_type": "stream",
     "text": [
      "  Emp Id   Names   Age  Salary\n",
      "0    E01     Ram  34.0   45000\n",
      "1    E02   Shyam  56.0   56000\n",
      "2    E03   Rahul  23.0   34000\n",
      "3    E04  Vishal  44.0   30000\n",
      "4    E05    Ravi  32.0   50000\n",
      "5    E06    John  36.0   62000\n",
      "6    E09     NaN   NaN   70000\n",
      "7    E10     NaN   NaN   90000\n"
     ]
    }
   ],
   "source": [
    "print(pd.merge(df1,df2,on= \"Emp Id\",how=\"right\"))"
   ]
  },
  {
   "cell_type": "code",
   "execution_count": 36,
   "id": "e39ef469-2d9a-4bf2-9aca-6b894963b44c",
   "metadata": {},
   "outputs": [
    {
     "name": "stdout",
     "output_type": "stream",
     "text": [
      "  Emp Id   Names   Age   Salary\n",
      "0    E01     Ram  34.0  45000.0\n",
      "1    E02   Shyam  56.0  56000.0\n",
      "2    E03   Rahul  23.0  34000.0\n",
      "3    E04  Vishal  44.0  30000.0\n",
      "4    E05    Ravi  32.0  50000.0\n",
      "5    E06    John  36.0  62000.0\n",
      "6    E07    Muna  11.0      NaN\n",
      "7    E08    Muni  12.0      NaN\n",
      "8    E09     NaN   NaN  70000.0\n",
      "9    E10     NaN   NaN  90000.0\n"
     ]
    }
   ],
   "source": [
    "print(pd.merge(df1,df2,on= \"Emp Id\",how=\"outer\"))"
   ]
  },
  {
   "cell_type": "code",
   "execution_count": 37,
   "id": "d8f70165-2e7c-4902-9f86-20af7e84b9be",
   "metadata": {},
   "outputs": [
    {
     "name": "stdout",
     "output_type": "stream",
     "text": [
      "  Emp Id   Names  Age  Salary\n",
      "0    E01     Ram   34   45000\n",
      "1    E02   Shyam   56   56000\n",
      "2    E03   Rahul   23   34000\n",
      "3    E04  Vishal   44   30000\n",
      "4    E05    Ravi   32   50000\n",
      "5    E06    John   36   62000\n"
     ]
    }
   ],
   "source": [
    "print(pd.merge(df1,df2,on= \"Emp Id\",how=\"inner\"))"
   ]
  },
  {
   "cell_type": "code",
   "execution_count": 38,
   "id": "50f069ab-8929-48b5-a291-6433261650d6",
   "metadata": {},
   "outputs": [
    {
     "ename": "AttributeError",
     "evalue": "module 'pandas' has no attribute 'join'",
     "output_type": "error",
     "traceback": [
      "\u001b[1;31m---------------------------------------------------------------------------\u001b[0m",
      "\u001b[1;31mAttributeError\u001b[0m                            Traceback (most recent call last)",
      "Cell \u001b[1;32mIn[38], line 1\u001b[0m\n\u001b[1;32m----> 1\u001b[0m \u001b[38;5;28mprint\u001b[39m(pd\u001b[38;5;241m.\u001b[39mjoin(df1,df2))\n",
      "\u001b[1;31mAttributeError\u001b[0m: module 'pandas' has no attribute 'join'"
     ]
    }
   ],
   "source": [
    "print(pd.join(df1,df2)) #there are no \"join\" function direcctly on pandas ,instead of it we will use merge inner or outer"
   ]
  },
  {
   "cell_type": "code",
   "execution_count": 39,
   "id": "ed7ea0fd-7d3d-438d-ba05-04291ba23a2a",
   "metadata": {},
   "outputs": [
    {
     "name": "stdout",
     "output_type": "stream",
     "text": [
      "  Emp Id   Names   Age   Salary\n",
      "0    E01     Ram  34.0      NaN\n",
      "1    E02   Shyam  56.0      NaN\n",
      "2    E03   Rahul  23.0      NaN\n",
      "3    E04  Vishal  44.0      NaN\n",
      "4    E05    Ravi  32.0      NaN\n",
      "5    E06    John  36.0      NaN\n",
      "6    E07    Muna  11.0      NaN\n",
      "7    E08    Muni  12.0      NaN\n",
      "0    E01     NaN   NaN  45000.0\n",
      "1    E02     NaN   NaN  56000.0\n",
      "2    E03     NaN   NaN  34000.0\n",
      "3    E04     NaN   NaN  30000.0\n",
      "4    E05     NaN   NaN  50000.0\n",
      "5    E06     NaN   NaN  62000.0\n",
      "6    E09     NaN   NaN  70000.0\n",
      "7    E10     NaN   NaN  90000.0\n"
     ]
    }
   ],
   "source": [
    "print(pd.concat([df1,df2]))"
   ]
  },
  {
   "cell_type": "code",
   "execution_count": 8,
   "id": "8aaf02ea-06f5-4a9a-b5cf-57aa0f6ba610",
   "metadata": {},
   "outputs": [
    {
     "name": "stdout",
     "output_type": "stream",
     "text": [
      "   Fruits  Price  Quantity\n",
      "0   mango    100        15\n",
      "1  apples    150        10\n",
      "2  banana     50        10\n",
      "3  papaya     35         3\n",
      "*******************\n",
      "   Fruits  Price  Quantity\n",
      "0   mango    120        12\n",
      "1  apples    175        15\n",
      "2  banana     50        10\n",
      "3  papaya     30         5\n"
     ]
    }
   ],
   "source": [
    "import pandas as pd \n",
    "dict = {\"Fruits\" : [\"mango\",\"apples\",\"banana\",\"papaya\"],\n",
    "        \"Price\" : [100,150,50,35],\n",
    "        \"Quantity\" : [15,10,10,3]}\n",
    "df1 = pd.DataFrame(dict)\n",
    "print(df1)\n",
    "print(\"*******************\")\n",
    "df2 = df1.copy()\n",
    "df2.loc[0,\"Price\"]= 120\n",
    "df2.loc[1,\"Price\"]= 175\n",
    "df2.loc[3,\"Price\"]= 30\n",
    "df2.loc[0,\"Quantity\"]= 12\n",
    "df2.loc[1,\"Quantity\"]= 15\n",
    "df2.loc[3,\"Quantity\"]= 5\n",
    "\n",
    "print(df2)\n"
   ]
  },
  {
   "cell_type": "code",
   "execution_count": 9,
   "id": "ca6baa6c-478a-4a0f-9659-dcc0a816b70d",
   "metadata": {},
   "outputs": [
    {
     "name": "stdout",
     "output_type": "stream",
     "text": [
      "   Price        Quantity      \n",
      "    self  other     self other\n",
      "0  100.0  120.0     15.0  12.0\n",
      "1  150.0  175.0     10.0  15.0\n",
      "3   35.0   30.0      3.0   5.0\n"
     ]
    }
   ],
   "source": [
    "differences = df1.compare(df2)\n",
    "print(differences)"
   ]
  },
  {
   "cell_type": "code",
   "execution_count": 10,
   "id": "c3305774-dab6-4f0e-89df-bdb31ee6e447",
   "metadata": {},
   "outputs": [
    {
     "name": "stdout",
     "output_type": "stream",
     "text": [
      "         Price  Quantity\n",
      "0 self   100.0      15.0\n",
      "  other  120.0      12.0\n",
      "1 self   150.0      10.0\n",
      "  other  175.0      15.0\n",
      "3 self    35.0       3.0\n",
      "  other   30.0       5.0\n"
     ]
    }
   ],
   "source": [
    "differences = df1.compare(df2,align_axis=0)\n",
    "print(differences)"
   ]
  },
  {
   "cell_type": "code",
   "execution_count": 1,
   "id": "3b804077-b088-4719-8338-662ac73f4a06",
   "metadata": {},
   "outputs": [
    {
     "name": "stdout",
     "output_type": "stream",
     "text": [
      "       A      B\n",
      "0   True   True\n",
      "1   True  False\n",
      "2  False   True\n"
     ]
    }
   ],
   "source": [
    "import pandas as pd\n",
    "\n",
    "# Example DataFrames\n",
    "df1 = pd.DataFrame({'A': [1, 2, 3], 'B': [4, 5, 6]})\n",
    "df2 = pd.DataFrame({'A': [1, 2, 0], 'B': [4, 0, 6]})\n",
    "\n",
    "comparison = df1 == df2\n",
    "print(comparison)\n"
   ]
  },
  {
   "cell_type": "code",
   "execution_count": 2,
   "id": "875e2666-9c54-4dc4-9d20-f3f5fa4e8e19",
   "metadata": {},
   "outputs": [
    {
     "name": "stdout",
     "output_type": "stream",
     "text": [
      "       A      B\n",
      "0  False  False\n",
      "1  False   True\n",
      "2   True  False\n",
      "     A          B      \n",
      "  self other self other\n",
      "1  NaN   NaN  5.0   0.0\n",
      "2  3.0   0.0  NaN   NaN\n"
     ]
    }
   ],
   "source": [
    "# Using the ne (not equal) method\n",
    "differences = df1.ne(df2)\n",
    "print(differences)\n",
    "\n",
    "# Using the compare method (pandas 1.1.0+)\n",
    "differences = df1.compare(df2)\n",
    "print(differences)\n"
   ]
  },
  {
   "cell_type": "code",
   "execution_count": 3,
   "id": "15adb81a-5215-4aac-8e65-5d968feff6d2",
   "metadata": {},
   "outputs": [
    {
     "name": "stdout",
     "output_type": "stream",
     "text": [
      "0     True\n",
      "1     True\n",
      "2    False\n",
      "Name: A, dtype: bool\n"
     ]
    }
   ],
   "source": [
    "# Comparing specific columns\n",
    "column_comparison = df1['A'] == df2['A']\n",
    "print(column_comparison)\n"
   ]
  },
  {
   "cell_type": "code",
   "execution_count": 4,
   "id": "9295e837-3f65-4883-9f6e-12dfa49e1475",
   "metadata": {},
   "outputs": [
    {
     "name": "stdout",
     "output_type": "stream",
     "text": [
      "   A  B\n",
      "1  2  5\n",
      "2  3  6\n"
     ]
    }
   ],
   "source": [
    "# Finding rows that are different\n",
    "different_rows = df1[df1.ne(df2).any(axis=1)]\n",
    "print(different_rows)\n"
   ]
  },
  {
   "cell_type": "code",
   "execution_count": 5,
   "id": "4a063e2f-6ea0-45f0-b2a8-55a829b2287f",
   "metadata": {},
   "outputs": [
    {
     "name": "stdout",
     "output_type": "stream",
     "text": [
      "DataFrames are not equal\n",
      "DataFrame.iloc[:, 0] (column name=\"A\") are different\n",
      "\n",
      "DataFrame.iloc[:, 0] (column name=\"A\") values are different (33.33333 %)\n",
      "[index]: [0, 1, 2]\n",
      "[left]:  [1, 2, 3]\n",
      "[right]: [1, 2, 0]\n",
      "At positional index 2, first diff: 3 != 0\n"
     ]
    }
   ],
   "source": [
    "from pandas.testing import assert_frame_equal\n",
    "\n",
    "try:\n",
    "    assert_frame_equal(df1, df2)\n",
    "    print(\"DataFrames are equal\")\n",
    "except AssertionError as e:\n",
    "    print(\"DataFrames are not equal\")\n",
    "    print(e)\n"
   ]
  },
  {
   "cell_type": "code",
   "execution_count": null,
   "id": "64086b60-7c27-4fc1-a93c-ec0d9404b1c8",
   "metadata": {},
   "outputs": [],
   "source": [
    "#Pivoting\n",
    "#Pivoting reshapes data where unique values from one column become columns in the new DataFrame."
   ]
  },
  {
   "cell_type": "code",
   "execution_count": 62,
   "id": "3ae5efba-ab90-4ef1-af62-e715100d786c",
   "metadata": {},
   "outputs": [
    {
     "name": "stdout",
     "output_type": "stream",
     "text": [
      "  keys  Names Houses Grades\n",
      "0   k1   John    red    3rd\n",
      "1   k2    Ben   blue    8th\n",
      "2   k1  David  green    9th\n",
      "3   k2  Peter    red    8th\n"
     ]
    }
   ],
   "source": [
    "#Pandas - Pivoting and Melting DataFrames\n",
    "import pandas as pd\n",
    "dict = {\n",
    "    \"keys\" : [\"k1\",\"k2\",\"k1\",\"k2\"],\n",
    "    \"Names\" : [\"John\",\"Ben\",\"David\",\"Peter\"],\n",
    "    \"Houses\" : [\"red\",\"blue\",\"green\",\"red\"],\n",
    "    \"Grades\" : [\"3rd\",\"8th\",\"9th\",\"8th\"]\n",
    "}\n",
    "\n",
    "df = pd.DataFrame(dict)\n",
    "\n",
    "print(df)"
   ]
  },
  {
   "cell_type": "code",
   "execution_count": 63,
   "id": "b5d1c8f2-1b5d-4046-acc8-84bfc89d5dea",
   "metadata": {},
   "outputs": [
    {
     "name": "stdout",
     "output_type": "stream",
     "text": [
      "Names   Ben  David John Peter\n",
      "keys                         \n",
      "k1      NaN  green  red   NaN\n",
      "k2     blue    NaN  NaN   red\n"
     ]
    }
   ],
   "source": [
    "print(df.pivot(index=\"keys\", values= \"Houses\",columns=\"Names\"))"
   ]
  },
  {
   "cell_type": "code",
   "execution_count": 64,
   "id": "ce0f7943-70ba-43ac-87c6-4baca956dc9f",
   "metadata": {},
   "outputs": [
    {
     "name": "stdout",
     "output_type": "stream",
     "text": [
      "      Houses                   Grades                 \n",
      "Names    Ben  David John Peter    Ben David John Peter\n",
      "keys                                                  \n",
      "k1       NaN  green  red   NaN    NaN   9th  3rd   NaN\n",
      "k2      blue    NaN  NaN   red    8th   NaN  NaN   8th\n"
     ]
    }
   ],
   "source": [
    "print(df.pivot(index=\"keys\", values= [\"Houses\",\"Grades\"],columns=\"Names\"))"
   ]
  },
  {
   "cell_type": "code",
   "execution_count": 67,
   "id": "7448f41b-223f-44e0-b5a6-3cfa53158255",
   "metadata": {},
   "outputs": [
    {
     "name": "stdout",
     "output_type": "stream",
     "text": [
      "Index(['keys', 'Names', 'Houses', 'Grades'], dtype='object')\n",
      "**************\n",
      "   Names variable  value\n",
      "0   John   Houses    red\n",
      "1    Ben   Houses   blue\n",
      "2  David   Houses  green\n",
      "3  Peter   Houses    red\n"
     ]
    }
   ],
   "source": [
    "print(df.columns)#this line is for check which column are present is there Names column present or not\n",
    "print(\"**************\")\n",
    "print(pd.melt(df,id_vars = ['Names'],value_vars =['Houses']))"
   ]
  },
  {
   "cell_type": "code",
   "execution_count": 69,
   "id": "8a59daf6-5dc9-42d5-9a0d-b7169108b53e",
   "metadata": {},
   "outputs": [
    {
     "name": "stdout",
     "output_type": "stream",
     "text": [
      "   Names variable  value\n",
      "0   John   Houses    red\n",
      "1    Ben   Houses   blue\n",
      "2  David   Houses  green\n",
      "3  Peter   Houses    red\n",
      "4   John   Grades    3rd\n",
      "5    Ben   Grades    8th\n",
      "6  David   Grades    9th\n",
      "7  Peter   Grades    8th\n"
     ]
    }
   ],
   "source": [
    "print(pd.melt(df,id_vars = ['Names'],value_vars =['Houses',\"Grades\"]))"
   ]
  },
  {
   "cell_type": "code",
   "execution_count": 46,
   "id": "287f8835-3721-41b5-a06b-975cef79a590",
   "metadata": {},
   "outputs": [
    {
     "name": "stdout",
     "output_type": "stream",
     "text": [
      "city        Los Angeles  New York\n",
      "date                             \n",
      "2021-01-01         75.0      32.0\n",
      "2021-01-02         78.0      30.0\n"
     ]
    }
   ],
   "source": [
    "#pivot_table\n",
    "#The pivot_table method allows for more complex operations like aggregation.\n",
    "# Example DataFrame\n",
    "data = {\n",
    "    'date': ['2021-01-01', '2021-01-01', '2021-01-02', '2021-01-02'],\n",
    "    'city': ['New York', 'Los Angeles', 'New York', 'Los Angeles'],\n",
    "    'temperature': [32, 75, 30, 78],\n",
    "    'humidity': [80, 20, 85, 25]\n",
    "}\n",
    "df = pd.DataFrame(data)\n",
    "\n",
    "# Pivoting with aggregation\n",
    "pivot_table_df = df.pivot_table(index='date', columns='city', values='temperature', aggfunc='mean')\n",
    "print(pivot_table_df)\n"
   ]
  },
  {
   "cell_type": "code",
   "execution_count": 47,
   "id": "80cfb696-40ad-4f5e-b300-5e94e89275e4",
   "metadata": {},
   "outputs": [
    {
     "name": "stdout",
     "output_type": "stream",
     "text": [
      "                  mean                  max         \n",
      "city       Los Angeles New York Los Angeles New York\n",
      "date                                                \n",
      "2021-01-01        75.0     32.0          75       32\n",
      "2021-01-02        78.0     30.0          78       30\n"
     ]
    }
   ],
   "source": [
    "#single value multiple aggregration function\n",
    "pivot_table_df = df.pivot_table(index='date', columns='city', values='temperature', aggfunc=[\"mean\",\"max\"])\n",
    "print(pivot_table_df)"
   ]
  },
  {
   "cell_type": "code",
   "execution_count": 48,
   "id": "51123461-c90a-4b03-9fb1-0fc0bce5fdbb",
   "metadata": {},
   "outputs": [
    {
     "name": "stdout",
     "output_type": "stream",
     "text": [
      "                  mean                                       max           \\\n",
      "              humidity          temperature             humidity            \n",
      "city       Los Angeles New York Los Angeles New York Los Angeles New York   \n",
      "date                                                                        \n",
      "2021-01-01        20.0     80.0        75.0     32.0          20       80   \n",
      "2021-01-02        25.0     85.0        78.0     30.0          25       85   \n",
      "\n",
      "                                 \n",
      "           temperature           \n",
      "city       Los Angeles New York  \n",
      "date                             \n",
      "2021-01-01          75       32  \n",
      "2021-01-02          78       30  \n"
     ]
    }
   ],
   "source": [
    "#multiple value multiple aggregration function\n",
    "pivot_table_df = df.pivot_table(index='date', columns='city', values=['temperature','humidity'], aggfunc=[\"mean\",\"max\"])\n",
    "print(pivot_table_df)"
   ]
  },
  {
   "cell_type": "code",
   "execution_count": null,
   "id": "e373f3c6-a2e1-430c-8cda-6ffcc3a34005",
   "metadata": {},
   "outputs": [],
   "source": [
    "#Melting\n",
    "#Melting is used to convert a DataFrame from a wide format to a long format."
   ]
  },
  {
   "cell_type": "code",
   "execution_count": 55,
   "id": "8c595573-05b0-42ef-be64-3b731a1448f9",
   "metadata": {},
   "outputs": [
    {
     "name": "stdout",
     "output_type": "stream",
     "text": [
      "         date         city  temperature  humidity\n",
      "0  2021-01-01     New York           32        80\n",
      "1  2021-01-01  Los Angeles           75        20\n",
      "2  2021-01-02     New York           30        85\n",
      "3  2021-01-02  Los Angeles           78        25\n",
      "\n",
      "Melted DataFrame:\n",
      "         date         city     variable  value\n",
      "0  2021-01-01     New York  temperature     32\n",
      "1  2021-01-01  Los Angeles  temperature     75\n",
      "2  2021-01-02     New York  temperature     30\n",
      "3  2021-01-02  Los Angeles  temperature     78\n",
      "4  2021-01-01     New York     humidity     80\n",
      "5  2021-01-01  Los Angeles     humidity     20\n",
      "6  2021-01-02     New York     humidity     85\n",
      "7  2021-01-02  Los Angeles     humidity     25\n"
     ]
    }
   ],
   "source": [
    "#Pivoting: Organizing data for a specific analysis (like setting up furniture for a game room).\n",
    "#Melting: Reverting data to a more basic form for flexibility (like rearranging the room for a different activity).\n",
    "#The melt function transforms the DataFrame into a long format:\n",
    "#pivot method is used when you want to reorganize your data based on column values.\n",
    "print(df)\n",
    "# Melting the DataFrame\n",
    "melted_df = pd.melt(df, id_vars=['date', 'city'], value_vars=['temperature', 'humidity'], var_name='variable', value_name='value')\n",
    "print(\"\\nMelted DataFrame:\")\n",
    "print(melted_df)\n"
   ]
  },
  {
   "cell_type": "code",
   "execution_count": null,
   "id": "feba9c83-9011-458d-b132-9cb3ab90b264",
   "metadata": {},
   "outputs": [],
   "source": [
    "\n",
    "#Data visualization is the graphical representation of information and data\n",
    "#Introduction to Matplotlib\n",
    "#Matplotlib is a low-level graph plotting library in python.\n",
    "#Matplotlib was created by John D. Hunter\n",
    "#pip install matplotlib"
   ]
  },
  {
   "cell_type": "code",
   "execution_count": 89,
   "id": "7b3079f9-f243-44fc-b844-fef8be789f75",
   "metadata": {},
   "outputs": [
    {
     "data": {
      "image/png": "[encoded data removed]",
      "text/plain": [
       "<Figure size 640x480 with 1 Axes>"
      ]
     },
     "metadata": {},
     "output_type": "display_data"
    }
   ],
   "source": [
    "#BAR plot matplotlib\n",
    "import matplotlib.pyplot as plt\n",
    "y = [98, 67, 88, 95, 88]\n",
    "x = [\"Part1\", \"Part2\", \"Part3\", \"Part4\", \"Part5\"]\n",
    "# plt.bar(x, y)\n",
    "# plt.bar(x, y,color = \"red\")\n",
    "colour = [\"red\",\"green\",\"yellow\",\"blue\",\"orange\"]\n",
    "plt.bar(x, y,color = colour,edgecolor=\"black\")\n",
    "plt.xlabel(\"Parts of Harry Poter\")\n",
    "plt.ylabel(\"popularity\",fontsize = 20)\n",
    "plt.title(\"popularity of different part\")\n",
    "plt.plot(x, y, color='green', linestyle='--', linewidth=2, marker='*', markerfacecolor='blue', markersize=15)\n",
    "\n",
    "plt.show()\n",
    "\n"
   ]
  },
  {
   "cell_type": "code",
   "execution_count": 95,
   "id": "e77e9802-24a2-4567-9ffb-f501e17b0a03",
   "metadata": {},
   "outputs": [
    {
     "name": "stdout",
     "output_type": "stream",
     "text": [
      "city\n",
      "mumbai      354\n",
      "new york    129\n",
      "paris       191\n",
      "Name: temperature, dtype: int64\n",
      "           day      city  temperature  windspeed   event\n",
      "0   01-01-2024  new york           32          6    Rain\n",
      "1   02-01-2024  new york           36          7   Sunny\n",
      "2   03-01-2024  new york           28         12    snow\n",
      "3   04-01-2024  new york           33          7   Sunny\n",
      "4   05-01-2024    mumbai           90          5   Sunny\n",
      "5   06-01-2024    mumbai           85         12     Fog\n",
      "6   07-01-2024    mumbai           87         15     Fog\n",
      "7   08-01-2024    mumbai           92          5    Rain\n",
      "8   09-01-2024     paris           45         20   Sunny\n",
      "9   10-01-2024     paris           50         13  cloudy\n",
      "10  11-01-2024     paris           54          8  cloudy\n",
      "11  12-01-2024     paris           42         10  cloudy\n"
     ]
    },
    {
     "data": {
      "image/png": "[encoded data removed]",
      "text/plain": [
       "<Figure size 640x480 with 1 Axes>"
      ]
     },
     "metadata": {},
     "output_type": "display_data"
    }
   ],
   "source": [
    "import pandas as pd\n",
    "import matplotlib.pyplot as plt\n",
    "data = pd.read_csv(r\"C:\\Users\\sourabha\\OneDrive\\Documents\\Weather_data.csv\")\n",
    "# print(data)\n",
    "sum_temps = data.groupby('city')['temperature'].sum()\n",
    "print(sum_temps)\n",
    "\n",
    "df = pd.DataFrame(data)\n",
    "print(df)\n",
    "plt.bar(sum_temps.index,sum_temps.values)\n",
    "plt.show()"
   ]
  },
  {
   "cell_type": "code",
   "execution_count": 106,
   "id": "7586bf31-57fd-4d57-9604-f2bd857f2b5d",
   "metadata": {},
   "outputs": [
    {
     "data": {
      "image/png": "[encoded data removed]",
      "text/plain": [
       "<Figure size 640x480 with 1 Axes>"
      ]
     },
     "metadata": {},
     "output_type": "display_data"
    }
   ],
   "source": [
    "import matplotlib.pyplot as plt\n",
    "x= [\"day1\",\"day2\",\"day3\",\"day4\",\"day5\"]\n",
    "y = [300,420,250,230,400]\n",
    "y1 = [500,450,300,250,320]\n",
    "\n",
    "plt.plot(x,y,marker = \"*\",ls = \"--\",color = \"red\",label=\"Week1\")\n",
    "plt.plot(x,y1,marker = \"*\",ls = \"-\",color = \"purple\",label = \"Week2\")\n",
    "plt.legend()\n",
    "plt.show()"
   ]
  },
  {
   "cell_type": "code",
   "execution_count": 108,
   "id": "338d0827-1c8a-4791-97aa-59d863a527c2",
   "metadata": {},
   "outputs": [
    {
     "data": {
      "image/png": "[encoded data removed]",
      "text/plain": [
       "<Figure size 640x480 with 1 Axes>"
      ]
     },
     "metadata": {},
     "output_type": "display_data"
    }
   ],
   "source": [
    "#scatter plot MATPLOTLIB\n",
    "import matplotlib.pyplot as plt\n",
    "#A scatter plot is used to display the relationship between two variables, providing a visual representation of how one variable is affected by another\n",
    "# Example data\n",
    "x = [1, 2, 3, 4, 5, 6, 7, 8, 9, 10]\n",
    "y = [2, 3, 5, 7, 11, 13, 17, 19, 23, 29]\n",
    "\n",
    "plt.scatter(x,y,color = \"red\",marker=\"*\")\n",
    "plt.show()\n"
   ]
  },
  {
   "cell_type": "code",
   "execution_count": 112,
   "id": "f7747d63-1ba7-48a2-8061-13414e2d3d0c",
   "metadata": {},
   "outputs": [
    {
     "data": {
      "image/png": "[encoded data removed]",
      "text/plain": [
       "<Figure size 640x480 with 1 Axes>"
      ]
     },
     "metadata": {},
     "output_type": "display_data"
    }
   ],
   "source": [
    "#PIE CHART\n",
    "import matplotlib.pyplot as plt\n",
    "\n",
    "brands = [\"Oneplus\",\"Apple\",\"Samsung\",\"Nokia\",\"Redmi\"]\n",
    "x = [22,35,30,3,10]\n",
    "plt.pie(x)\n",
    "plt.show()\n"
   ]
  },
  {
   "cell_type": "code",
   "execution_count": 110,
   "id": "fd737d9f-26b9-4f21-b291-1c9ffedf0c15",
   "metadata": {},
   "outputs": [
    {
     "data": {
      "image/png": "[encoded data removed]",
      "text/plain": [
       "<Figure size 640x480 with 1 Axes>"
      ]
     },
     "metadata": {},
     "output_type": "display_data"
    }
   ],
   "source": [
    "import matplotlib.pyplot as plt\n",
    "\n",
    "# Example data\n",
    "labels = ['Part1', 'Part2', 'Part3', 'Part4', 'Part5']\n",
    "sizes = [98, 67, 88, 95, 88]\n",
    "colors = ['red', 'green', 'yellow', 'blue', 'orange']\n",
    "explode = (0.5, 0, 0, 0, 0)  # explode the 1st slice (Part1)\n",
    "\n",
    "# Create a pie chart\n",
    "plt.pie(sizes, explode=explode, labels=labels, colors=colors, autopct='%1.1f%%',\n",
    "        shadow=True, startangle=140)\n",
    "\n",
    "# Equal aspect ratio ensures that pie is drawn as a circle.\n",
    "plt.axis('equal')\n",
    "\n",
    "# Set the title\n",
    "plt.title(\"Popularity of Different Parts of Harry Potter\")\n",
    "\n",
    "# Show the plot\n",
    "plt.show()\n"
   ]
  },
  {
   "cell_type": "code",
   "execution_count": null,
   "id": "d497a20f-9848-4e89-ae90-c01c840d222f",
   "metadata": {},
   "outputs": [],
   "source": []
  }
 ],
 "metadata": {
  "kernelspec": {
   "display_name": "Python 3 (ipykernel)",
   "language": "python",
   "name": "python3"
  },
  "language_info": {
   "codemirror_mode": {
    "name": "ipython",
    "version": 3
   },
   "file_extension": ".py",
   "mimetype": "text/x-python",
   "name": "python",
   "nbconvert_exporter": "python",
   "pygments_lexer": "ipython3",
   "version": "3.11.7"
  }
 },
 "nbformat": 4,
 "nbformat_minor": 5
}
